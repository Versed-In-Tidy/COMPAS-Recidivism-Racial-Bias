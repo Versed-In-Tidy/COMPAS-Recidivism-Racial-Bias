{
 "cells": [
  {
   "cell_type": "code",
   "execution_count": 1,
   "metadata": {},
   "outputs": [],
   "source": [
    "import pandas as pd\n",
    "import numpy as np\n",
    "import matplotlib.pyplot as plt\n",
    "from datetime import datetime, date \n",
    "import warnings\n",
    "warnings.filterwarnings(\"ignore\")\n",
    "import seaborn as sns\n",
    "%matplotlib inline"
   ]
  },
  {
   "cell_type": "code",
   "execution_count": 2,
   "metadata": {
    "scrolled": true
   },
   "outputs": [
    {
     "data": {
      "text/html": [
       "<div>\n",
       "<style scoped>\n",
       "    .dataframe tbody tr th:only-of-type {\n",
       "        vertical-align: middle;\n",
       "    }\n",
       "\n",
       "    .dataframe tbody tr th {\n",
       "        vertical-align: top;\n",
       "    }\n",
       "\n",
       "    .dataframe thead th {\n",
       "        text-align: right;\n",
       "    }\n",
       "</style>\n",
       "<table border=\"1\" class=\"dataframe\">\n",
       "  <thead>\n",
       "    <tr style=\"text-align: right;\">\n",
       "      <th></th>\n",
       "      <th>Person_ID</th>\n",
       "      <th>AssessmentID</th>\n",
       "      <th>Case_ID</th>\n",
       "      <th>Agency_Text</th>\n",
       "      <th>LastName</th>\n",
       "      <th>FirstName</th>\n",
       "      <th>MiddleName</th>\n",
       "      <th>Sex_Code_Text</th>\n",
       "      <th>Ethnic_Code_Text</th>\n",
       "      <th>DateOfBirth</th>\n",
       "      <th>...</th>\n",
       "      <th>RecSupervisionLevel</th>\n",
       "      <th>RecSupervisionLevelText</th>\n",
       "      <th>Scale_ID</th>\n",
       "      <th>DisplayText</th>\n",
       "      <th>RawScore</th>\n",
       "      <th>DecileScore</th>\n",
       "      <th>ScoreText</th>\n",
       "      <th>AssessmentType</th>\n",
       "      <th>IsCompleted</th>\n",
       "      <th>IsDeleted</th>\n",
       "    </tr>\n",
       "  </thead>\n",
       "  <tbody>\n",
       "    <tr>\n",
       "      <td>0</td>\n",
       "      <td>50844</td>\n",
       "      <td>57167</td>\n",
       "      <td>51950</td>\n",
       "      <td>PRETRIAL</td>\n",
       "      <td>Fisher</td>\n",
       "      <td>Kevin</td>\n",
       "      <td>NaN</td>\n",
       "      <td>Male</td>\n",
       "      <td>Caucasian</td>\n",
       "      <td>12/05/92</td>\n",
       "      <td>...</td>\n",
       "      <td>1</td>\n",
       "      <td>Low</td>\n",
       "      <td>7</td>\n",
       "      <td>Risk of Violence</td>\n",
       "      <td>-2.08</td>\n",
       "      <td>4</td>\n",
       "      <td>Low</td>\n",
       "      <td>New</td>\n",
       "      <td>1</td>\n",
       "      <td>0</td>\n",
       "    </tr>\n",
       "    <tr>\n",
       "      <td>1</td>\n",
       "      <td>50844</td>\n",
       "      <td>57167</td>\n",
       "      <td>51950</td>\n",
       "      <td>PRETRIAL</td>\n",
       "      <td>Fisher</td>\n",
       "      <td>Kevin</td>\n",
       "      <td>NaN</td>\n",
       "      <td>Male</td>\n",
       "      <td>Caucasian</td>\n",
       "      <td>12/05/92</td>\n",
       "      <td>...</td>\n",
       "      <td>1</td>\n",
       "      <td>Low</td>\n",
       "      <td>8</td>\n",
       "      <td>Risk of Recidivism</td>\n",
       "      <td>-1.06</td>\n",
       "      <td>2</td>\n",
       "      <td>Low</td>\n",
       "      <td>New</td>\n",
       "      <td>1</td>\n",
       "      <td>0</td>\n",
       "    </tr>\n",
       "    <tr>\n",
       "      <td>2</td>\n",
       "      <td>50844</td>\n",
       "      <td>57167</td>\n",
       "      <td>51950</td>\n",
       "      <td>PRETRIAL</td>\n",
       "      <td>Fisher</td>\n",
       "      <td>Kevin</td>\n",
       "      <td>NaN</td>\n",
       "      <td>Male</td>\n",
       "      <td>Caucasian</td>\n",
       "      <td>12/05/92</td>\n",
       "      <td>...</td>\n",
       "      <td>1</td>\n",
       "      <td>Low</td>\n",
       "      <td>18</td>\n",
       "      <td>Risk of Failure to Appear</td>\n",
       "      <td>15.00</td>\n",
       "      <td>1</td>\n",
       "      <td>Low</td>\n",
       "      <td>New</td>\n",
       "      <td>1</td>\n",
       "      <td>0</td>\n",
       "    </tr>\n",
       "    <tr>\n",
       "      <td>3</td>\n",
       "      <td>50848</td>\n",
       "      <td>57174</td>\n",
       "      <td>51956</td>\n",
       "      <td>PRETRIAL</td>\n",
       "      <td>KENDALL</td>\n",
       "      <td>KEVIN</td>\n",
       "      <td>NaN</td>\n",
       "      <td>Male</td>\n",
       "      <td>Caucasian</td>\n",
       "      <td>09/16/84</td>\n",
       "      <td>...</td>\n",
       "      <td>1</td>\n",
       "      <td>Low</td>\n",
       "      <td>7</td>\n",
       "      <td>Risk of Violence</td>\n",
       "      <td>-2.84</td>\n",
       "      <td>2</td>\n",
       "      <td>Low</td>\n",
       "      <td>New</td>\n",
       "      <td>1</td>\n",
       "      <td>0</td>\n",
       "    </tr>\n",
       "    <tr>\n",
       "      <td>4</td>\n",
       "      <td>50848</td>\n",
       "      <td>57174</td>\n",
       "      <td>51956</td>\n",
       "      <td>PRETRIAL</td>\n",
       "      <td>KENDALL</td>\n",
       "      <td>KEVIN</td>\n",
       "      <td>NaN</td>\n",
       "      <td>Male</td>\n",
       "      <td>Caucasian</td>\n",
       "      <td>09/16/84</td>\n",
       "      <td>...</td>\n",
       "      <td>1</td>\n",
       "      <td>Low</td>\n",
       "      <td>8</td>\n",
       "      <td>Risk of Recidivism</td>\n",
       "      <td>-1.50</td>\n",
       "      <td>1</td>\n",
       "      <td>Low</td>\n",
       "      <td>New</td>\n",
       "      <td>1</td>\n",
       "      <td>0</td>\n",
       "    </tr>\n",
       "  </tbody>\n",
       "</table>\n",
       "<p>5 rows × 28 columns</p>\n",
       "</div>"
      ],
      "text/plain": [
       "   Person_ID  AssessmentID  Case_ID Agency_Text LastName FirstName MiddleName  \\\n",
       "0      50844         57167    51950    PRETRIAL   Fisher     Kevin        NaN   \n",
       "1      50844         57167    51950    PRETRIAL   Fisher     Kevin        NaN   \n",
       "2      50844         57167    51950    PRETRIAL   Fisher     Kevin        NaN   \n",
       "3      50848         57174    51956    PRETRIAL  KENDALL     KEVIN        NaN   \n",
       "4      50848         57174    51956    PRETRIAL  KENDALL     KEVIN        NaN   \n",
       "\n",
       "  Sex_Code_Text Ethnic_Code_Text DateOfBirth  ...  RecSupervisionLevel  \\\n",
       "0          Male        Caucasian    12/05/92  ...                    1   \n",
       "1          Male        Caucasian    12/05/92  ...                    1   \n",
       "2          Male        Caucasian    12/05/92  ...                    1   \n",
       "3          Male        Caucasian    09/16/84  ...                    1   \n",
       "4          Male        Caucasian    09/16/84  ...                    1   \n",
       "\n",
       "  RecSupervisionLevelText Scale_ID                DisplayText RawScore  \\\n",
       "0                     Low        7           Risk of Violence    -2.08   \n",
       "1                     Low        8         Risk of Recidivism    -1.06   \n",
       "2                     Low       18  Risk of Failure to Appear    15.00   \n",
       "3                     Low        7           Risk of Violence    -2.84   \n",
       "4                     Low        8         Risk of Recidivism    -1.50   \n",
       "\n",
       "  DecileScore ScoreText AssessmentType  IsCompleted IsDeleted  \n",
       "0           4       Low            New            1         0  \n",
       "1           2       Low            New            1         0  \n",
       "2           1       Low            New            1         0  \n",
       "3           2       Low            New            1         0  \n",
       "4           1       Low            New            1         0  \n",
       "\n",
       "[5 rows x 28 columns]"
      ]
     },
     "execution_count": 2,
     "metadata": {},
     "output_type": "execute_result"
    }
   ],
   "source": [
    "df = pd.read_csv(\"compas-scores-raw.csv\")\n",
    "df.head()"
   ]
  },
  {
   "cell_type": "code",
   "execution_count": 3,
   "metadata": {},
   "outputs": [
    {
     "data": {
      "text/plain": [
       "(60843, 28)"
      ]
     },
     "execution_count": 3,
     "metadata": {},
     "output_type": "execute_result"
    }
   ],
   "source": [
    "df.shape"
   ]
  },
  {
   "cell_type": "code",
   "execution_count": 4,
   "metadata": {},
   "outputs": [
    {
     "data": {
      "text/plain": [
       "Index(['Person_ID', 'AssessmentID', 'Case_ID', 'Agency_Text', 'LastName',\n",
       "       'FirstName', 'MiddleName', 'Sex_Code_Text', 'Ethnic_Code_Text',\n",
       "       'DateOfBirth', 'ScaleSet_ID', 'ScaleSet', 'AssessmentReason',\n",
       "       'Language', 'LegalStatus', 'CustodyStatus', 'MaritalStatus',\n",
       "       'Screening_Date', 'RecSupervisionLevel', 'RecSupervisionLevelText',\n",
       "       'Scale_ID', 'DisplayText', 'RawScore', 'DecileScore', 'ScoreText',\n",
       "       'AssessmentType', 'IsCompleted', 'IsDeleted'],\n",
       "      dtype='object')"
      ]
     },
     "execution_count": 4,
     "metadata": {},
     "output_type": "execute_result"
    }
   ],
   "source": [
    "df.columns"
   ]
  },
  {
   "cell_type": "code",
   "execution_count": 5,
   "metadata": {},
   "outputs": [
    {
     "data": {
      "text/plain": [
       "<matplotlib.axes._subplots.AxesSubplot at 0x2474a5f2c88>"
      ]
     },
     "execution_count": 5,
     "metadata": {},
     "output_type": "execute_result"
    },
    {
     "data": {
      "image/png": "[encoded data removed]",
      "text/plain": [
       "<Figure size 1800x720 with 2 Axes>"
      ]
     },
     "metadata": {
      "needs_background": "light"
     },
     "output_type": "display_data"
    }
   ],
   "source": [
    "import missingno as msno \n",
    "msno.matrix(df) "
   ]
  },
  {
   "cell_type": "code",
   "execution_count": 6,
   "metadata": {},
   "outputs": [
    {
     "data": {
      "text/plain": [
       "Person_ID                      0\n",
       "AssessmentID                   0\n",
       "Case_ID                        0\n",
       "Agency_Text                    0\n",
       "LastName                       0\n",
       "FirstName                      0\n",
       "MiddleName                 45195\n",
       "Sex_Code_Text                  0\n",
       "Ethnic_Code_Text               0\n",
       "DateOfBirth                    0\n",
       "ScaleSet_ID                    0\n",
       "ScaleSet                       0\n",
       "AssessmentReason               0\n",
       "Language                       0\n",
       "LegalStatus                    0\n",
       "CustodyStatus                  0\n",
       "MaritalStatus                  0\n",
       "Screening_Date                 0\n",
       "RecSupervisionLevel            0\n",
       "RecSupervisionLevelText        0\n",
       "Scale_ID                       0\n",
       "DisplayText                    0\n",
       "RawScore                       0\n",
       "DecileScore                    0\n",
       "ScoreText                     45\n",
       "AssessmentType                 0\n",
       "IsCompleted                    0\n",
       "IsDeleted                      0\n",
       "dtype: int64"
      ]
     },
     "execution_count": 6,
     "metadata": {},
     "output_type": "execute_result"
    }
   ],
   "source": [
    "df.isna().sum()"
   ]
  },
  {
   "cell_type": "code",
   "execution_count": 7,
   "metadata": {},
   "outputs": [
    {
     "data": {
      "text/plain": [
       "Person_ID                   0\n",
       "AssessmentID                0\n",
       "Case_ID                     0\n",
       "Agency_Text                 0\n",
       "LastName                    0\n",
       "FirstName                   0\n",
       "Sex_Code_Text               0\n",
       "Ethnic_Code_Text            0\n",
       "DateOfBirth                 0\n",
       "ScaleSet_ID                 0\n",
       "ScaleSet                    0\n",
       "AssessmentReason            0\n",
       "Language                    0\n",
       "LegalStatus                 0\n",
       "CustodyStatus               0\n",
       "MaritalStatus               0\n",
       "Screening_Date              0\n",
       "RecSupervisionLevel         0\n",
       "RecSupervisionLevelText     0\n",
       "Scale_ID                    0\n",
       "DisplayText                 0\n",
       "RawScore                    0\n",
       "DecileScore                 0\n",
       "ScoreText                  45\n",
       "AssessmentType              0\n",
       "IsCompleted                 0\n",
       "IsDeleted                   0\n",
       "dtype: int64"
      ]
     },
     "execution_count": 7,
     "metadata": {},
     "output_type": "execute_result"
    }
   ],
   "source": [
    "df = df.drop(\"MiddleName\", axis=1)\n",
    "df.isna().sum()"
   ]
  },
  {
   "cell_type": "code",
   "execution_count": 8,
   "metadata": {},
   "outputs": [],
   "source": [
    "df.Ethnic_Code_Text[df.Ethnic_Code_Text == 'African-Am'] = 'African-American' "
   ]
  },
  {
   "cell_type": "code",
   "execution_count": 9,
   "metadata": {},
   "outputs": [
    {
     "data": {
      "text/html": [
       "<div>\n",
       "<style scoped>\n",
       "    .dataframe tbody tr th:only-of-type {\n",
       "        vertical-align: middle;\n",
       "    }\n",
       "\n",
       "    .dataframe tbody tr th {\n",
       "        vertical-align: top;\n",
       "    }\n",
       "\n",
       "    .dataframe thead th {\n",
       "        text-align: right;\n",
       "    }\n",
       "</style>\n",
       "<table border=\"1\" class=\"dataframe\">\n",
       "  <thead>\n",
       "    <tr style=\"text-align: right;\">\n",
       "      <th></th>\n",
       "      <th>Sex_Code_Text</th>\n",
       "      <th>counts</th>\n",
       "    </tr>\n",
       "  </thead>\n",
       "  <tbody>\n",
       "    <tr>\n",
       "      <td>0</td>\n",
       "      <td>Female</td>\n",
       "      <td>13329</td>\n",
       "    </tr>\n",
       "    <tr>\n",
       "      <td>1</td>\n",
       "      <td>Male</td>\n",
       "      <td>47514</td>\n",
       "    </tr>\n",
       "  </tbody>\n",
       "</table>\n",
       "</div>"
      ],
      "text/plain": [
       "  Sex_Code_Text  counts\n",
       "0        Female   13329\n",
       "1          Male   47514"
      ]
     },
     "execution_count": 9,
     "metadata": {},
     "output_type": "execute_result"
    }
   ],
   "source": [
    "gender = df.loc[:,[\"Sex_Code_Text\"]]\n",
    "gender_group = gender.groupby([\"Sex_Code_Text\"]).size().reset_index()\n",
    "gender_group.columns = [\"Sex_Code_Text\",\"counts\"]\n",
    "gender_group"
   ]
  },
  {
   "cell_type": "code",
   "execution_count": 10,
   "metadata": {},
   "outputs": [
    {
     "data": {
      "text/plain": [
       "<BarContainer object of 2 artists>"
      ]
     },
     "execution_count": 10,
     "metadata": {},
     "output_type": "execute_result"
    },
    {
     "data": {
      "image/png": "[encoded data removed]",
      "text/plain": [
       "<Figure size 432x288 with 1 Axes>"
      ]
     },
     "metadata": {
      "needs_background": "light"
     },
     "output_type": "display_data"
    }
   ],
   "source": [
    "plt.bar(gender_group['Sex_Code_Text'], gender_group['counts']) "
   ]
  },
  {
   "cell_type": "code",
   "execution_count": 11,
   "metadata": {},
   "outputs": [
    {
     "data": {
      "text/html": [
       "<div>\n",
       "<style scoped>\n",
       "    .dataframe tbody tr th:only-of-type {\n",
       "        vertical-align: middle;\n",
       "    }\n",
       "\n",
       "    .dataframe tbody tr th {\n",
       "        vertical-align: top;\n",
       "    }\n",
       "\n",
       "    .dataframe thead th {\n",
       "        text-align: right;\n",
       "    }\n",
       "</style>\n",
       "<table border=\"1\" class=\"dataframe\">\n",
       "  <thead>\n",
       "    <tr style=\"text-align: right;\">\n",
       "      <th></th>\n",
       "      <th>Person_ID</th>\n",
       "      <th>AssessmentID</th>\n",
       "      <th>Case_ID</th>\n",
       "      <th>Agency_Text</th>\n",
       "      <th>LastName</th>\n",
       "      <th>FirstName</th>\n",
       "      <th>Sex_Code_Text</th>\n",
       "      <th>Ethnic_Code_Text</th>\n",
       "      <th>DateOfBirth</th>\n",
       "      <th>ScaleSet_ID</th>\n",
       "      <th>...</th>\n",
       "      <th>RecSupervisionLevel</th>\n",
       "      <th>RecSupervisionLevelText</th>\n",
       "      <th>Scale_ID</th>\n",
       "      <th>DisplayText</th>\n",
       "      <th>RawScore</th>\n",
       "      <th>DecileScore</th>\n",
       "      <th>ScoreText</th>\n",
       "      <th>AssessmentType</th>\n",
       "      <th>IsCompleted</th>\n",
       "      <th>IsDeleted</th>\n",
       "    </tr>\n",
       "  </thead>\n",
       "  <tbody>\n",
       "    <tr>\n",
       "      <td>0</td>\n",
       "      <td>50844</td>\n",
       "      <td>57167</td>\n",
       "      <td>51950</td>\n",
       "      <td>PRETRIAL</td>\n",
       "      <td>Fisher</td>\n",
       "      <td>Kevin</td>\n",
       "      <td>Male</td>\n",
       "      <td>Caucasian</td>\n",
       "      <td>1992-12-05</td>\n",
       "      <td>22</td>\n",
       "      <td>...</td>\n",
       "      <td>1</td>\n",
       "      <td>Low</td>\n",
       "      <td>7</td>\n",
       "      <td>Risk of Violence</td>\n",
       "      <td>-2.08</td>\n",
       "      <td>4</td>\n",
       "      <td>Low</td>\n",
       "      <td>New</td>\n",
       "      <td>1</td>\n",
       "      <td>0</td>\n",
       "    </tr>\n",
       "    <tr>\n",
       "      <td>1</td>\n",
       "      <td>50844</td>\n",
       "      <td>57167</td>\n",
       "      <td>51950</td>\n",
       "      <td>PRETRIAL</td>\n",
       "      <td>Fisher</td>\n",
       "      <td>Kevin</td>\n",
       "      <td>Male</td>\n",
       "      <td>Caucasian</td>\n",
       "      <td>1992-12-05</td>\n",
       "      <td>22</td>\n",
       "      <td>...</td>\n",
       "      <td>1</td>\n",
       "      <td>Low</td>\n",
       "      <td>8</td>\n",
       "      <td>Risk of Recidivism</td>\n",
       "      <td>-1.06</td>\n",
       "      <td>2</td>\n",
       "      <td>Low</td>\n",
       "      <td>New</td>\n",
       "      <td>1</td>\n",
       "      <td>0</td>\n",
       "    </tr>\n",
       "    <tr>\n",
       "      <td>2</td>\n",
       "      <td>50844</td>\n",
       "      <td>57167</td>\n",
       "      <td>51950</td>\n",
       "      <td>PRETRIAL</td>\n",
       "      <td>Fisher</td>\n",
       "      <td>Kevin</td>\n",
       "      <td>Male</td>\n",
       "      <td>Caucasian</td>\n",
       "      <td>1992-12-05</td>\n",
       "      <td>22</td>\n",
       "      <td>...</td>\n",
       "      <td>1</td>\n",
       "      <td>Low</td>\n",
       "      <td>18</td>\n",
       "      <td>Risk of Failure to Appear</td>\n",
       "      <td>15.00</td>\n",
       "      <td>1</td>\n",
       "      <td>Low</td>\n",
       "      <td>New</td>\n",
       "      <td>1</td>\n",
       "      <td>0</td>\n",
       "    </tr>\n",
       "    <tr>\n",
       "      <td>3</td>\n",
       "      <td>50848</td>\n",
       "      <td>57174</td>\n",
       "      <td>51956</td>\n",
       "      <td>PRETRIAL</td>\n",
       "      <td>KENDALL</td>\n",
       "      <td>KEVIN</td>\n",
       "      <td>Male</td>\n",
       "      <td>Caucasian</td>\n",
       "      <td>1984-09-16</td>\n",
       "      <td>22</td>\n",
       "      <td>...</td>\n",
       "      <td>1</td>\n",
       "      <td>Low</td>\n",
       "      <td>7</td>\n",
       "      <td>Risk of Violence</td>\n",
       "      <td>-2.84</td>\n",
       "      <td>2</td>\n",
       "      <td>Low</td>\n",
       "      <td>New</td>\n",
       "      <td>1</td>\n",
       "      <td>0</td>\n",
       "    </tr>\n",
       "    <tr>\n",
       "      <td>4</td>\n",
       "      <td>50848</td>\n",
       "      <td>57174</td>\n",
       "      <td>51956</td>\n",
       "      <td>PRETRIAL</td>\n",
       "      <td>KENDALL</td>\n",
       "      <td>KEVIN</td>\n",
       "      <td>Male</td>\n",
       "      <td>Caucasian</td>\n",
       "      <td>1984-09-16</td>\n",
       "      <td>22</td>\n",
       "      <td>...</td>\n",
       "      <td>1</td>\n",
       "      <td>Low</td>\n",
       "      <td>8</td>\n",
       "      <td>Risk of Recidivism</td>\n",
       "      <td>-1.50</td>\n",
       "      <td>1</td>\n",
       "      <td>Low</td>\n",
       "      <td>New</td>\n",
       "      <td>1</td>\n",
       "      <td>0</td>\n",
       "    </tr>\n",
       "  </tbody>\n",
       "</table>\n",
       "<p>5 rows × 27 columns</p>\n",
       "</div>"
      ],
      "text/plain": [
       "   Person_ID  AssessmentID  Case_ID Agency_Text LastName FirstName  \\\n",
       "0      50844         57167    51950    PRETRIAL   Fisher     Kevin   \n",
       "1      50844         57167    51950    PRETRIAL   Fisher     Kevin   \n",
       "2      50844         57167    51950    PRETRIAL   Fisher     Kevin   \n",
       "3      50848         57174    51956    PRETRIAL  KENDALL     KEVIN   \n",
       "4      50848         57174    51956    PRETRIAL  KENDALL     KEVIN   \n",
       "\n",
       "  Sex_Code_Text Ethnic_Code_Text DateOfBirth  ScaleSet_ID  ...  \\\n",
       "0          Male        Caucasian  1992-12-05           22  ...   \n",
       "1          Male        Caucasian  1992-12-05           22  ...   \n",
       "2          Male        Caucasian  1992-12-05           22  ...   \n",
       "3          Male        Caucasian  1984-09-16           22  ...   \n",
       "4          Male        Caucasian  1984-09-16           22  ...   \n",
       "\n",
       "  RecSupervisionLevel RecSupervisionLevelText Scale_ID  \\\n",
       "0                   1                     Low        7   \n",
       "1                   1                     Low        8   \n",
       "2                   1                     Low       18   \n",
       "3                   1                     Low        7   \n",
       "4                   1                     Low        8   \n",
       "\n",
       "                 DisplayText RawScore DecileScore ScoreText  AssessmentType  \\\n",
       "0           Risk of Violence    -2.08           4       Low             New   \n",
       "1         Risk of Recidivism    -1.06           2       Low             New   \n",
       "2  Risk of Failure to Appear    15.00           1       Low             New   \n",
       "3           Risk of Violence    -2.84           2       Low             New   \n",
       "4         Risk of Recidivism    -1.50           1       Low             New   \n",
       "\n",
       "  IsCompleted  IsDeleted  \n",
       "0           1          0  \n",
       "1           1          0  \n",
       "2           1          0  \n",
       "3           1          0  \n",
       "4           1          0  \n",
       "\n",
       "[5 rows x 27 columns]"
      ]
     },
     "execution_count": 11,
     "metadata": {},
     "output_type": "execute_result"
    }
   ],
   "source": [
    "df[\"DateOfBirth\"] = pd.to_datetime(df[\"DateOfBirth\"])\n",
    "df.head()"
   ]
  },
  {
   "cell_type": "code",
   "execution_count": 12,
   "metadata": {},
   "outputs": [
    {
     "data": {
      "text/plain": [
       "array([ 24,  32,  22,  31, -50,  23,  44,  30,  36,  38,  28,  37,  46,\n",
       "        25,  41,  43,  35,  27, -44, -51, -39,  42,  29, -27,  39,  33,\n",
       "       -52,  34,  45, -43, -31, -46,  26, -49, -47, -48, -28, -38, -37,\n",
       "       -40, -17, -45, -53,  20,  40, -34, -42, -26, -41, -35, -13,  21,\n",
       "       -30, -32, -29, -24, -33, -36, -22, -21, -25, -19, -16,  -2, -20,\n",
       "        19, -23,  -9, -14,  -3,  18], dtype=int64)"
      ]
     },
     "execution_count": 12,
     "metadata": {},
     "output_type": "execute_result"
    }
   ],
   "source": [
    "df[\"Age\"] = df[\"DateOfBirth\"].apply(lambda x : (pd.datetime(2016,5,23).year - x.year))\n",
    "df.Age.unique()"
   ]
  },
  {
   "cell_type": "code",
   "execution_count": 13,
   "metadata": {},
   "outputs": [
    {
     "data": {
      "text/plain": [
       "Timestamp('1998-03-29 00:00:00')"
      ]
     },
     "execution_count": 13,
     "metadata": {},
     "output_type": "execute_result"
    }
   ],
   "source": [
    "df=df[(df.DateOfBirth<='03-29-1998')]\n",
    "df.DateOfBirth.max()"
   ]
  },
  {
   "cell_type": "code",
   "execution_count": 14,
   "metadata": {},
   "outputs": [
    {
     "data": {
      "text/plain": [
       "array([24, 32, 22, 31, 23, 44, 30, 36, 38, 28, 37, 46, 25, 41, 43, 35, 27,\n",
       "       42, 29, 39, 33, 34, 45, 26, 20, 40, 21, 19, 18], dtype=int64)"
      ]
     },
     "execution_count": 14,
     "metadata": {},
     "output_type": "execute_result"
    }
   ],
   "source": [
    "df[\"Age\"] = df[\"DateOfBirth\"].apply(lambda x : (pd.datetime(2016,5,23).year - x.year))\n",
    "df.Age.unique()"
   ]
  },
  {
   "cell_type": "code",
   "execution_count": 15,
   "metadata": {},
   "outputs": [
    {
     "data": {
      "text/plain": [
       "18"
      ]
     },
     "execution_count": 15,
     "metadata": {},
     "output_type": "execute_result"
    }
   ],
   "source": [
    "df.Age.min()"
   ]
  },
  {
   "cell_type": "code",
   "execution_count": 16,
   "metadata": {},
   "outputs": [
    {
     "data": {
      "text/plain": [
       "46"
      ]
     },
     "execution_count": 16,
     "metadata": {},
     "output_type": "execute_result"
    }
   ],
   "source": [
    "df.Age.max()"
   ]
  },
  {
   "cell_type": "code",
   "execution_count": 17,
   "metadata": {},
   "outputs": [
    {
     "data": {
      "text/plain": [
       "0    18-24\n",
       "1    18-24\n",
       "2    18-24\n",
       "3    30-34\n",
       "4    30-34\n",
       "Name: Age_Group, dtype: category\n",
       "Categories (6, object): [18-24 < 25-29 < 30-34 < 35-39 < 40-44 < 45-49]"
      ]
     },
     "execution_count": 17,
     "metadata": {},
     "output_type": "execute_result"
    }
   ],
   "source": [
    "bins = [18, 25, 30, 35, 40, 45, 50]\n",
    "labels = ['18-24','25-29','30-34','35-39','40-44','45-49']\n",
    "df['Age_Group'] = pd.cut(df.Age, bins, labels = labels, include_lowest = True)\n",
    "df.Age_Group.head()"
   ]
  },
  {
   "cell_type": "code",
   "execution_count": 18,
   "metadata": {},
   "outputs": [
    {
     "data": {
      "text/plain": [
       "[18-24, 30-34, 40-44, 25-29, 35-39, 45-49]\n",
       "Categories (6, object): [18-24 < 25-29 < 30-34 < 35-39 < 40-44 < 45-49]"
      ]
     },
     "execution_count": 18,
     "metadata": {},
     "output_type": "execute_result"
    }
   ],
   "source": [
    "df.Age_Group.unique()"
   ]
  },
  {
   "cell_type": "code",
   "execution_count": 19,
   "metadata": {},
   "outputs": [
    {
     "data": {
      "text/plain": [
       "array(['Caucasian', 'African-American', 'Hispanic', 'Other', 'Asian',\n",
       "       'Native American', 'Oriental', 'Arabic'], dtype=object)"
      ]
     },
     "execution_count": 19,
     "metadata": {},
     "output_type": "execute_result"
    }
   ],
   "source": [
    "df[\"Ethnic_Code_Text\"].unique()"
   ]
  },
  {
   "cell_type": "code",
   "execution_count": 20,
   "metadata": {},
   "outputs": [
    {
     "data": {
      "text/plain": [
       "array([1, 4, 2, 3], dtype=int64)"
      ]
     },
     "execution_count": 20,
     "metadata": {},
     "output_type": "execute_result"
    }
   ],
   "source": [
    "df[\"RecSupervisionLevel\"].unique()"
   ]
  },
  {
   "cell_type": "code",
   "execution_count": 21,
   "metadata": {},
   "outputs": [
    {
     "data": {
      "text/plain": [
       "array(['Low', 'High', 'Medium', 'Medium with Override Consideration'],\n",
       "      dtype=object)"
      ]
     },
     "execution_count": 21,
     "metadata": {},
     "output_type": "execute_result"
    }
   ],
   "source": [
    "df[\"RecSupervisionLevelText\"].unique()"
   ]
  },
  {
   "cell_type": "code",
   "execution_count": 22,
   "metadata": {},
   "outputs": [
    {
     "data": {
      "text/plain": [
       "array([ 4,  2,  1,  3,  8,  7,  6, 10,  9,  5, -1], dtype=int64)"
      ]
     },
     "execution_count": 22,
     "metadata": {},
     "output_type": "execute_result"
    }
   ],
   "source": [
    "df[\"DecileScore\"].unique()"
   ]
  },
  {
   "cell_type": "code",
   "execution_count": 23,
   "metadata": {},
   "outputs": [
    {
     "data": {
      "text/plain": [
       "array(['Low', 'High', 'Medium', nan], dtype=object)"
      ]
     },
     "execution_count": 23,
     "metadata": {},
     "output_type": "execute_result"
    }
   ],
   "source": [
    "df[\"ScoreText\"].unique()"
   ]
  },
  {
   "cell_type": "code",
   "execution_count": 24,
   "metadata": {},
   "outputs": [],
   "source": [
    "med1 = df[[\"DecileScore\", \"RecSupervisionLevel\", \"Ethnic_Code_Text\"]].groupby(\"Ethnic_Code_Text\").median()\n",
    "mean1 = df[[\"DecileScore\", \"RecSupervisionLevel\", \"Ethnic_Code_Text\"]].groupby(\"Ethnic_Code_Text\").mean()\n",
    "\n",
    "med2 = df[[\"RawScore\", \"RecSupervisionLevel\", \"Ethnic_Code_Text\"]].groupby(\"Ethnic_Code_Text\").median()\n",
    "mean2 = df[[\"RawScore\", \"RecSupervisionLevel\", \"Ethnic_Code_Text\"]].groupby(\"Ethnic_Code_Text\").mean()"
   ]
  },
  {
   "cell_type": "code",
   "execution_count": 25,
   "metadata": {},
   "outputs": [
    {
     "name": "stdout",
     "output_type": "stream",
     "text": [
      "                  DecileScore  RecSupervisionLevel\n",
      "Ethnic_Code_Text                                  \n",
      "African-American            4                    2\n",
      "Arabic                      3                    1\n",
      "Asian                       2                    1\n",
      "Caucasian                   3                    1\n",
      "Hispanic                    2                    1\n",
      "Native American             4                    2\n",
      "Oriental                    2                    1\n",
      "Other                       2                    1                   RawScore  RecSupervisionLevel\n",
      "Ethnic_Code_Text                               \n",
      "African-American     -0.31                    2\n",
      "Arabic               -0.66                    1\n",
      "Asian                -1.19                    1\n",
      "Caucasian            -0.72                    1\n",
      "Hispanic             -0.87                    1\n",
      "Native American      -0.41                    2\n",
      "Oriental             -0.94                    1\n",
      "Other                -1.00                    1\n"
     ]
    }
   ],
   "source": [
    "print(med1,med2)"
   ]
  },
  {
   "cell_type": "code",
   "execution_count": 26,
   "metadata": {
    "scrolled": true
   },
   "outputs": [
    {
     "name": "stdout",
     "output_type": "stream",
     "text": [
      "                  DecileScore  RecSupervisionLevel\n",
      "Ethnic_Code_Text                                  \n",
      "African-American     4.450367             2.024227\n",
      "Arabic               3.583333             1.600000\n",
      "Asian                2.631579             1.263158\n",
      "Caucasian            3.508811             1.536521\n",
      "Hispanic             3.113924             1.408992\n",
      "Native American      4.196721             1.934426\n",
      "Oriental             2.909091             1.272727\n",
      "Other                2.812278             1.356164                   RawScore  RecSupervisionLevel\n",
      "Ethnic_Code_Text                               \n",
      "African-American  5.454391             2.024227\n",
      "Arabic            5.077500             1.600000\n",
      "Asian             4.313377             1.263158\n",
      "Caucasian         5.049082             1.536521\n",
      "Hispanic          4.703272             1.408992\n",
      "Native American   5.450929             1.934426\n",
      "Oriental          4.476667             1.272727\n",
      "Other             4.176504             1.356164\n"
     ]
    }
   ],
   "source": [
    "print(mean1,mean2)"
   ]
  },
  {
   "cell_type": "code",
   "execution_count": 27,
   "metadata": {
    "scrolled": true
   },
   "outputs": [
    {
     "data": {
      "text/html": [
       "<div>\n",
       "<style scoped>\n",
       "    .dataframe tbody tr th:only-of-type {\n",
       "        vertical-align: middle;\n",
       "    }\n",
       "\n",
       "    .dataframe tbody tr th {\n",
       "        vertical-align: top;\n",
       "    }\n",
       "\n",
       "    .dataframe thead th {\n",
       "        text-align: right;\n",
       "    }\n",
       "</style>\n",
       "<table border=\"1\" class=\"dataframe\">\n",
       "  <thead>\n",
       "    <tr style=\"text-align: right;\">\n",
       "      <th></th>\n",
       "      <th>Person_ID</th>\n",
       "    </tr>\n",
       "    <tr>\n",
       "      <th>Ethnic_Code_Text</th>\n",
       "      <th></th>\n",
       "    </tr>\n",
       "  </thead>\n",
       "  <tbody>\n",
       "    <tr>\n",
       "      <td>African-American</td>\n",
       "      <td>22908</td>\n",
       "    </tr>\n",
       "    <tr>\n",
       "      <td>Arabic</td>\n",
       "      <td>60</td>\n",
       "    </tr>\n",
       "    <tr>\n",
       "      <td>Asian</td>\n",
       "      <td>228</td>\n",
       "    </tr>\n",
       "    <tr>\n",
       "      <td>Caucasian</td>\n",
       "      <td>14868</td>\n",
       "    </tr>\n",
       "    <tr>\n",
       "      <td>Hispanic</td>\n",
       "      <td>6873</td>\n",
       "    </tr>\n",
       "    <tr>\n",
       "      <td>Native American</td>\n",
       "      <td>183</td>\n",
       "    </tr>\n",
       "    <tr>\n",
       "      <td>Oriental</td>\n",
       "      <td>33</td>\n",
       "    </tr>\n",
       "    <tr>\n",
       "      <td>Other</td>\n",
       "      <td>1971</td>\n",
       "    </tr>\n",
       "  </tbody>\n",
       "</table>\n",
       "</div>"
      ],
      "text/plain": [
       "                  Person_ID\n",
       "Ethnic_Code_Text           \n",
       "African-American      22908\n",
       "Arabic                   60\n",
       "Asian                   228\n",
       "Caucasian             14868\n",
       "Hispanic               6873\n",
       "Native American         183\n",
       "Oriental                 33\n",
       "Other                  1971"
      ]
     },
     "execution_count": 27,
     "metadata": {},
     "output_type": "execute_result"
    }
   ],
   "source": [
    "counts = df[[\"Person_ID\",\"Ethnic_Code_Text\"]].groupby(\"Ethnic_Code_Text\").count()\n",
    "counts"
   ]
  },
  {
   "cell_type": "code",
   "execution_count": 28,
   "metadata": {},
   "outputs": [
    {
     "data": {
      "text/html": [
       "<div>\n",
       "<style scoped>\n",
       "    .dataframe tbody tr th:only-of-type {\n",
       "        vertical-align: middle;\n",
       "    }\n",
       "\n",
       "    .dataframe tbody tr th {\n",
       "        vertical-align: top;\n",
       "    }\n",
       "\n",
       "    .dataframe thead th {\n",
       "        text-align: right;\n",
       "    }\n",
       "</style>\n",
       "<table border=\"1\" class=\"dataframe\">\n",
       "  <thead>\n",
       "    <tr style=\"text-align: right;\">\n",
       "      <th></th>\n",
       "      <th>Ethnic_Code_Text</th>\n",
       "      <th>count</th>\n",
       "    </tr>\n",
       "  </thead>\n",
       "  <tbody>\n",
       "    <tr>\n",
       "      <td>0</td>\n",
       "      <td>African-American</td>\n",
       "      <td>22908</td>\n",
       "    </tr>\n",
       "    <tr>\n",
       "      <td>1</td>\n",
       "      <td>Arabic</td>\n",
       "      <td>60</td>\n",
       "    </tr>\n",
       "    <tr>\n",
       "      <td>2</td>\n",
       "      <td>Asian</td>\n",
       "      <td>228</td>\n",
       "    </tr>\n",
       "    <tr>\n",
       "      <td>3</td>\n",
       "      <td>Caucasian</td>\n",
       "      <td>14868</td>\n",
       "    </tr>\n",
       "    <tr>\n",
       "      <td>4</td>\n",
       "      <td>Hispanic</td>\n",
       "      <td>6873</td>\n",
       "    </tr>\n",
       "    <tr>\n",
       "      <td>5</td>\n",
       "      <td>Native American</td>\n",
       "      <td>183</td>\n",
       "    </tr>\n",
       "    <tr>\n",
       "      <td>6</td>\n",
       "      <td>Oriental</td>\n",
       "      <td>33</td>\n",
       "    </tr>\n",
       "    <tr>\n",
       "      <td>7</td>\n",
       "      <td>Other</td>\n",
       "      <td>1971</td>\n",
       "    </tr>\n",
       "  </tbody>\n",
       "</table>\n",
       "</div>"
      ],
      "text/plain": [
       "   Ethnic_Code_Text  count\n",
       "0  African-American  22908\n",
       "1            Arabic     60\n",
       "2             Asian    228\n",
       "3         Caucasian  14868\n",
       "4          Hispanic   6873\n",
       "5   Native American    183\n",
       "6          Oriental     33\n",
       "7             Other   1971"
      ]
     },
     "execution_count": 28,
     "metadata": {},
     "output_type": "execute_result"
    }
   ],
   "source": [
    "race = df.loc[:,[\"Ethnic_Code_Text\"]]\n",
    "race_group = race.groupby([\"Ethnic_Code_Text\"]).size().reset_index()\n",
    "race_group.columns = [\"Ethnic_Code_Text\",\"count\"]\n",
    "race_group"
   ]
  },
  {
   "cell_type": "code",
   "execution_count": 29,
   "metadata": {},
   "outputs": [
    {
     "data": {
      "text/plain": [
       "Text(0, 0.5, 'Race')"
      ]
     },
     "execution_count": 29,
     "metadata": {},
     "output_type": "execute_result"
    },
    {
     "data": {
      "image/png": "[encoded data removed]",
      "text/plain": [
       "<Figure size 432x288 with 1 Axes>"
      ]
     },
     "metadata": {
      "needs_background": "light"
     },
     "output_type": "display_data"
    }
   ],
   "source": [
    "sns.barplot(y=\"Ethnic_Code_Text\", x=\"count\", \n",
    "            data = race_group.sort_values(\"count\", ascending=False))\n",
    "plt.xlabel('Count')\n",
    "plt.ylabel('Race')"
   ]
  },
  {
   "cell_type": "code",
   "execution_count": 30,
   "metadata": {
    "scrolled": true
   },
   "outputs": [
    {
     "data": {
      "text/html": [
       "<div>\n",
       "<style scoped>\n",
       "    .dataframe tbody tr th:only-of-type {\n",
       "        vertical-align: middle;\n",
       "    }\n",
       "\n",
       "    .dataframe tbody tr th {\n",
       "        vertical-align: top;\n",
       "    }\n",
       "\n",
       "    .dataframe thead th {\n",
       "        text-align: right;\n",
       "    }\n",
       "</style>\n",
       "<table border=\"1\" class=\"dataframe\">\n",
       "  <thead>\n",
       "    <tr style=\"text-align: right;\">\n",
       "      <th>Sex_Code_Text</th>\n",
       "      <th>Female</th>\n",
       "      <th>Male</th>\n",
       "    </tr>\n",
       "    <tr>\n",
       "      <th>Ethnic_Code_Text</th>\n",
       "      <th></th>\n",
       "      <th></th>\n",
       "    </tr>\n",
       "  </thead>\n",
       "  <tbody>\n",
       "    <tr>\n",
       "      <td>African-American</td>\n",
       "      <td>4935</td>\n",
       "      <td>17973</td>\n",
       "    </tr>\n",
       "    <tr>\n",
       "      <td>Arabic</td>\n",
       "      <td>3</td>\n",
       "      <td>57</td>\n",
       "    </tr>\n",
       "    <tr>\n",
       "      <td>Asian</td>\n",
       "      <td>48</td>\n",
       "      <td>180</td>\n",
       "    </tr>\n",
       "    <tr>\n",
       "      <td>Caucasian</td>\n",
       "      <td>3714</td>\n",
       "      <td>11154</td>\n",
       "    </tr>\n",
       "    <tr>\n",
       "      <td>Hispanic</td>\n",
       "      <td>1392</td>\n",
       "      <td>5481</td>\n",
       "    </tr>\n",
       "    <tr>\n",
       "      <td>Native American</td>\n",
       "      <td>54</td>\n",
       "      <td>129</td>\n",
       "    </tr>\n",
       "    <tr>\n",
       "      <td>Oriental</td>\n",
       "      <td>6</td>\n",
       "      <td>27</td>\n",
       "    </tr>\n",
       "    <tr>\n",
       "      <td>Other</td>\n",
       "      <td>342</td>\n",
       "      <td>1629</td>\n",
       "    </tr>\n",
       "  </tbody>\n",
       "</table>\n",
       "</div>"
      ],
      "text/plain": [
       "Sex_Code_Text     Female   Male\n",
       "Ethnic_Code_Text               \n",
       "African-American    4935  17973\n",
       "Arabic                 3     57\n",
       "Asian                 48    180\n",
       "Caucasian           3714  11154\n",
       "Hispanic            1392   5481\n",
       "Native American       54    129\n",
       "Oriental               6     27\n",
       "Other                342   1629"
      ]
     },
     "execution_count": 30,
     "metadata": {},
     "output_type": "execute_result"
    }
   ],
   "source": [
    "ct1 = pd.crosstab(df.Ethnic_Code_Text, df.Sex_Code_Text)\n",
    "ct1"
   ]
  },
  {
   "cell_type": "code",
   "execution_count": 31,
   "metadata": {},
   "outputs": [
    {
     "data": {
      "text/plain": [
       "[Text(0, 0, 'African-American'),\n",
       " Text(0, 0, 'Arabic'),\n",
       " Text(0, 0, 'Asian'),\n",
       " Text(0, 0, 'Caucasian'),\n",
       " Text(0, 0, 'Hispanic'),\n",
       " Text(0, 0, 'Native American'),\n",
       " Text(0, 0, 'Oriental'),\n",
       " Text(0, 0, 'Other')]"
      ]
     },
     "execution_count": 31,
     "metadata": {},
     "output_type": "execute_result"
    },
    {
     "data": {
      "image/png": "[encoded data removed]",
      "text/plain": [
       "<Figure size 432x288 with 1 Axes>"
      ]
     },
     "metadata": {
      "needs_background": "light"
     },
     "output_type": "display_data"
    }
   ],
   "source": [
    "stacked1 = ct1.stack().reset_index().rename(columns={0:'Count'})\n",
    "ct_chart1 = sns.barplot(x=stacked1.Ethnic_Code_Text, y=stacked1.Count, hue=stacked1.Sex_Code_Text)\n",
    "ct_chart1.set_xticklabels(ct_chart1.get_xticklabels(),rotation=45)"
   ]
  },
  {
   "cell_type": "code",
   "execution_count": 32,
   "metadata": {},
   "outputs": [
    {
     "data": {
      "text/html": [
       "<div>\n",
       "<style scoped>\n",
       "    .dataframe tbody tr th:only-of-type {\n",
       "        vertical-align: middle;\n",
       "    }\n",
       "\n",
       "    .dataframe tbody tr th {\n",
       "        vertical-align: top;\n",
       "    }\n",
       "\n",
       "    .dataframe thead th {\n",
       "        text-align: right;\n",
       "    }\n",
       "</style>\n",
       "<table border=\"1\" class=\"dataframe\">\n",
       "  <thead>\n",
       "    <tr style=\"text-align: right;\">\n",
       "      <th>Age_Group</th>\n",
       "      <th>18-24</th>\n",
       "      <th>25-29</th>\n",
       "      <th>30-34</th>\n",
       "      <th>35-39</th>\n",
       "      <th>40-44</th>\n",
       "      <th>45-49</th>\n",
       "    </tr>\n",
       "    <tr>\n",
       "      <th>Ethnic_Code_Text</th>\n",
       "      <th></th>\n",
       "      <th></th>\n",
       "      <th></th>\n",
       "      <th></th>\n",
       "      <th></th>\n",
       "      <th></th>\n",
       "    </tr>\n",
       "  </thead>\n",
       "  <tbody>\n",
       "    <tr>\n",
       "      <td>African-American</td>\n",
       "      <td>6609</td>\n",
       "      <td>6456</td>\n",
       "      <td>4692</td>\n",
       "      <td>2943</td>\n",
       "      <td>1914</td>\n",
       "      <td>294</td>\n",
       "    </tr>\n",
       "    <tr>\n",
       "      <td>Arabic</td>\n",
       "      <td>30</td>\n",
       "      <td>9</td>\n",
       "      <td>9</td>\n",
       "      <td>6</td>\n",
       "      <td>6</td>\n",
       "      <td>0</td>\n",
       "    </tr>\n",
       "    <tr>\n",
       "      <td>Asian</td>\n",
       "      <td>48</td>\n",
       "      <td>45</td>\n",
       "      <td>57</td>\n",
       "      <td>27</td>\n",
       "      <td>42</td>\n",
       "      <td>9</td>\n",
       "    </tr>\n",
       "    <tr>\n",
       "      <td>Caucasian</td>\n",
       "      <td>2982</td>\n",
       "      <td>3750</td>\n",
       "      <td>3129</td>\n",
       "      <td>2502</td>\n",
       "      <td>2061</td>\n",
       "      <td>444</td>\n",
       "    </tr>\n",
       "    <tr>\n",
       "      <td>Hispanic</td>\n",
       "      <td>1389</td>\n",
       "      <td>1767</td>\n",
       "      <td>1602</td>\n",
       "      <td>1116</td>\n",
       "      <td>798</td>\n",
       "      <td>201</td>\n",
       "    </tr>\n",
       "    <tr>\n",
       "      <td>Native American</td>\n",
       "      <td>39</td>\n",
       "      <td>48</td>\n",
       "      <td>45</td>\n",
       "      <td>30</td>\n",
       "      <td>12</td>\n",
       "      <td>9</td>\n",
       "    </tr>\n",
       "    <tr>\n",
       "      <td>Oriental</td>\n",
       "      <td>9</td>\n",
       "      <td>9</td>\n",
       "      <td>3</td>\n",
       "      <td>9</td>\n",
       "      <td>0</td>\n",
       "      <td>3</td>\n",
       "    </tr>\n",
       "    <tr>\n",
       "      <td>Other</td>\n",
       "      <td>483</td>\n",
       "      <td>471</td>\n",
       "      <td>420</td>\n",
       "      <td>321</td>\n",
       "      <td>216</td>\n",
       "      <td>60</td>\n",
       "    </tr>\n",
       "  </tbody>\n",
       "</table>\n",
       "</div>"
      ],
      "text/plain": [
       "Age_Group         18-24  25-29  30-34  35-39  40-44  45-49\n",
       "Ethnic_Code_Text                                          \n",
       "African-American   6609   6456   4692   2943   1914    294\n",
       "Arabic               30      9      9      6      6      0\n",
       "Asian                48     45     57     27     42      9\n",
       "Caucasian          2982   3750   3129   2502   2061    444\n",
       "Hispanic           1389   1767   1602   1116    798    201\n",
       "Native American      39     48     45     30     12      9\n",
       "Oriental              9      9      3      9      0      3\n",
       "Other               483    471    420    321    216     60"
      ]
     },
     "execution_count": 32,
     "metadata": {},
     "output_type": "execute_result"
    }
   ],
   "source": [
    "ct2 = pd.crosstab(df.Ethnic_Code_Text, df.Age_Group)[['18-24','25-29','30-34','35-39','40-44','45-49']]\n",
    "ct2"
   ]
  },
  {
   "cell_type": "code",
   "execution_count": 33,
   "metadata": {},
   "outputs": [
    {
     "data": {
      "text/plain": [
       "[Text(0, 0, '0'),\n",
       " Text(0, 0, '2500'),\n",
       " Text(0, 0, '5000'),\n",
       " Text(0, 0, '7500'),\n",
       " Text(0, 0, '10000'),\n",
       " Text(0, 0, '12500'),\n",
       " Text(0, 0, '15000'),\n",
       " Text(0, 0, '17500')]"
      ]
     },
     "execution_count": 33,
     "metadata": {},
     "output_type": "execute_result"
    },
    {
     "data": {
      "image/png": "[encoded data removed]",
      "text/plain": [
       "<Figure size 432x288 with 1 Axes>"
      ]
     },
     "metadata": {
      "needs_background": "light"
     },
     "output_type": "display_data"
    }
   ],
   "source": [
    "stacked2 = ct2.stack().reset_index().rename(columns={0:'Count'})\n",
    "ct_chart2 = sns.barplot(x=stacked2.Age_Group, y=stacked2.Count, hue=stacked2.Ethnic_Code_Text)\n",
    "ct_chart2.set_yticklabels(ct_chart1.get_yticklabels(),rotation=45)"
   ]
  },
  {
   "cell_type": "code",
   "execution_count": 34,
   "metadata": {},
   "outputs": [
    {
     "data": {
      "text/html": [
       "<div>\n",
       "<style scoped>\n",
       "    .dataframe tbody tr th:only-of-type {\n",
       "        vertical-align: middle;\n",
       "    }\n",
       "\n",
       "    .dataframe tbody tr th {\n",
       "        vertical-align: top;\n",
       "    }\n",
       "\n",
       "    .dataframe thead th {\n",
       "        text-align: right;\n",
       "    }\n",
       "</style>\n",
       "<table border=\"1\" class=\"dataframe\">\n",
       "  <thead>\n",
       "    <tr style=\"text-align: right;\">\n",
       "      <th>RecSupervisionLevelText</th>\n",
       "      <th>Low</th>\n",
       "      <th>Medium</th>\n",
       "      <th>Medium with Override Consideration</th>\n",
       "      <th>High</th>\n",
       "    </tr>\n",
       "    <tr>\n",
       "      <th>Ethnic_Code_Text</th>\n",
       "      <th></th>\n",
       "      <th></th>\n",
       "      <th></th>\n",
       "      <th></th>\n",
       "    </tr>\n",
       "  </thead>\n",
       "  <tbody>\n",
       "    <tr>\n",
       "      <td>African-American</td>\n",
       "      <td>9993</td>\n",
       "      <td>5328</td>\n",
       "      <td>4626</td>\n",
       "      <td>2961</td>\n",
       "    </tr>\n",
       "    <tr>\n",
       "      <td>Arabic</td>\n",
       "      <td>36</td>\n",
       "      <td>15</td>\n",
       "      <td>6</td>\n",
       "      <td>3</td>\n",
       "    </tr>\n",
       "    <tr>\n",
       "      <td>Asian</td>\n",
       "      <td>195</td>\n",
       "      <td>15</td>\n",
       "      <td>9</td>\n",
       "      <td>9</td>\n",
       "    </tr>\n",
       "    <tr>\n",
       "      <td>Caucasian</td>\n",
       "      <td>9888</td>\n",
       "      <td>2652</td>\n",
       "      <td>1659</td>\n",
       "      <td>669</td>\n",
       "    </tr>\n",
       "    <tr>\n",
       "      <td>Hispanic</td>\n",
       "      <td>5115</td>\n",
       "      <td>978</td>\n",
       "      <td>507</td>\n",
       "      <td>273</td>\n",
       "    </tr>\n",
       "    <tr>\n",
       "      <td>Native American</td>\n",
       "      <td>84</td>\n",
       "      <td>45</td>\n",
       "      <td>36</td>\n",
       "      <td>18</td>\n",
       "    </tr>\n",
       "    <tr>\n",
       "      <td>Oriental</td>\n",
       "      <td>30</td>\n",
       "      <td>0</td>\n",
       "      <td>0</td>\n",
       "      <td>3</td>\n",
       "    </tr>\n",
       "    <tr>\n",
       "      <td>Other</td>\n",
       "      <td>1500</td>\n",
       "      <td>297</td>\n",
       "      <td>117</td>\n",
       "      <td>57</td>\n",
       "    </tr>\n",
       "  </tbody>\n",
       "</table>\n",
       "</div>"
      ],
      "text/plain": [
       "RecSupervisionLevelText   Low  Medium  Medium with Override Consideration  \\\n",
       "Ethnic_Code_Text                                                            \n",
       "African-American         9993    5328                                4626   \n",
       "Arabic                     36      15                                   6   \n",
       "Asian                     195      15                                   9   \n",
       "Caucasian                9888    2652                                1659   \n",
       "Hispanic                 5115     978                                 507   \n",
       "Native American            84      45                                  36   \n",
       "Oriental                   30       0                                   0   \n",
       "Other                    1500     297                                 117   \n",
       "\n",
       "RecSupervisionLevelText  High  \n",
       "Ethnic_Code_Text               \n",
       "African-American         2961  \n",
       "Arabic                      3  \n",
       "Asian                       9  \n",
       "Caucasian                 669  \n",
       "Hispanic                  273  \n",
       "Native American            18  \n",
       "Oriental                    3  \n",
       "Other                      57  "
      ]
     },
     "execution_count": 34,
     "metadata": {},
     "output_type": "execute_result"
    }
   ],
   "source": [
    "ct3 = pd.crosstab(df.Ethnic_Code_Text, df.RecSupervisionLevelText)[[\"Low\",\"Medium\",\"Medium with Override Consideration\",\"High\"]]\n",
    "ct3"
   ]
  },
  {
   "cell_type": "code",
   "execution_count": 35,
   "metadata": {},
   "outputs": [
    {
     "data": {
      "text/plain": [
       "[Text(0, 0, 'African-American'),\n",
       " Text(0, 0, 'Arabic'),\n",
       " Text(0, 0, 'Asian'),\n",
       " Text(0, 0, 'Caucasian'),\n",
       " Text(0, 0, 'Hispanic'),\n",
       " Text(0, 0, 'Native American'),\n",
       " Text(0, 0, 'Oriental'),\n",
       " Text(0, 0, 'Other')]"
      ]
     },
     "execution_count": 35,
     "metadata": {},
     "output_type": "execute_result"
    },
    {
     "data": {
      "image/png": "[encoded data removed]",
      "text/plain": [
       "<Figure size 432x288 with 1 Axes>"
      ]
     },
     "metadata": {
      "needs_background": "light"
     },
     "output_type": "display_data"
    }
   ],
   "source": [
    "stacked3 = ct3.stack().reset_index().rename(columns={0:'Count'})\n",
    "ct_chart3 = sns.barplot(x=stacked3.Ethnic_Code_Text, y=stacked3.Count, hue=stacked3.RecSupervisionLevelText)\n",
    "ct_chart3.set_xticklabels(ct_chart1.get_xticklabels(),rotation=45)"
   ]
  },
  {
   "cell_type": "code",
   "execution_count": 36,
   "metadata": {},
   "outputs": [
    {
     "data": {
      "text/plain": [
       "array(['Pretrial', 'Post Sentence', 'Conditional Release', 'Other',\n",
       "       'Probation Violator', 'Parole Violator', 'Deferred Sentencing'],\n",
       "      dtype=object)"
      ]
     },
     "execution_count": 36,
     "metadata": {},
     "output_type": "execute_result"
    }
   ],
   "source": [
    "df[\"LegalStatus\"].unique()"
   ]
  },
  {
   "cell_type": "code",
   "execution_count": 37,
   "metadata": {},
   "outputs": [
    {
     "data": {
      "text/html": [
       "<div>\n",
       "<style scoped>\n",
       "    .dataframe tbody tr th:only-of-type {\n",
       "        vertical-align: middle;\n",
       "    }\n",
       "\n",
       "    .dataframe tbody tr th {\n",
       "        vertical-align: top;\n",
       "    }\n",
       "\n",
       "    .dataframe thead th {\n",
       "        text-align: right;\n",
       "    }\n",
       "</style>\n",
       "<table border=\"1\" class=\"dataframe\">\n",
       "  <thead>\n",
       "    <tr style=\"text-align: right;\">\n",
       "      <th>LegalStatus</th>\n",
       "      <th>Pretrial</th>\n",
       "      <th>Post Sentence</th>\n",
       "      <th>Conditional Release</th>\n",
       "      <th>Other</th>\n",
       "      <th>Probation Violator</th>\n",
       "      <th>Parole Violator</th>\n",
       "      <th>Deferred Sentencing</th>\n",
       "    </tr>\n",
       "    <tr>\n",
       "      <th>Ethnic_Code_Text</th>\n",
       "      <th></th>\n",
       "      <th></th>\n",
       "      <th></th>\n",
       "      <th></th>\n",
       "      <th></th>\n",
       "      <th></th>\n",
       "      <th></th>\n",
       "    </tr>\n",
       "  </thead>\n",
       "  <tbody>\n",
       "    <tr>\n",
       "      <td>African-American</td>\n",
       "      <td>16152</td>\n",
       "      <td>5517</td>\n",
       "      <td>162</td>\n",
       "      <td>1002</td>\n",
       "      <td>72</td>\n",
       "      <td>0</td>\n",
       "      <td>3</td>\n",
       "    </tr>\n",
       "    <tr>\n",
       "      <td>Arabic</td>\n",
       "      <td>27</td>\n",
       "      <td>30</td>\n",
       "      <td>3</td>\n",
       "      <td>0</td>\n",
       "      <td>0</td>\n",
       "      <td>0</td>\n",
       "      <td>0</td>\n",
       "    </tr>\n",
       "    <tr>\n",
       "      <td>Asian</td>\n",
       "      <td>90</td>\n",
       "      <td>117</td>\n",
       "      <td>0</td>\n",
       "      <td>21</td>\n",
       "      <td>0</td>\n",
       "      <td>0</td>\n",
       "      <td>0</td>\n",
       "    </tr>\n",
       "    <tr>\n",
       "      <td>Caucasian</td>\n",
       "      <td>9192</td>\n",
       "      <td>4740</td>\n",
       "      <td>105</td>\n",
       "      <td>795</td>\n",
       "      <td>24</td>\n",
       "      <td>9</td>\n",
       "      <td>3</td>\n",
       "    </tr>\n",
       "    <tr>\n",
       "      <td>Hispanic</td>\n",
       "      <td>2766</td>\n",
       "      <td>2772</td>\n",
       "      <td>48</td>\n",
       "      <td>1257</td>\n",
       "      <td>24</td>\n",
       "      <td>6</td>\n",
       "      <td>0</td>\n",
       "    </tr>\n",
       "    <tr>\n",
       "      <td>Native American</td>\n",
       "      <td>105</td>\n",
       "      <td>57</td>\n",
       "      <td>0</td>\n",
       "      <td>21</td>\n",
       "      <td>0</td>\n",
       "      <td>0</td>\n",
       "      <td>0</td>\n",
       "    </tr>\n",
       "    <tr>\n",
       "      <td>Oriental</td>\n",
       "      <td>12</td>\n",
       "      <td>21</td>\n",
       "      <td>0</td>\n",
       "      <td>0</td>\n",
       "      <td>0</td>\n",
       "      <td>0</td>\n",
       "      <td>0</td>\n",
       "    </tr>\n",
       "    <tr>\n",
       "      <td>Other</td>\n",
       "      <td>1602</td>\n",
       "      <td>300</td>\n",
       "      <td>3</td>\n",
       "      <td>66</td>\n",
       "      <td>0</td>\n",
       "      <td>0</td>\n",
       "      <td>0</td>\n",
       "    </tr>\n",
       "  </tbody>\n",
       "</table>\n",
       "</div>"
      ],
      "text/plain": [
       "LegalStatus       Pretrial  Post Sentence  Conditional Release  Other  \\\n",
       "Ethnic_Code_Text                                                        \n",
       "African-American     16152           5517                  162   1002   \n",
       "Arabic                  27             30                    3      0   \n",
       "Asian                   90            117                    0     21   \n",
       "Caucasian             9192           4740                  105    795   \n",
       "Hispanic              2766           2772                   48   1257   \n",
       "Native American        105             57                    0     21   \n",
       "Oriental                12             21                    0      0   \n",
       "Other                 1602            300                    3     66   \n",
       "\n",
       "LegalStatus       Probation Violator  Parole Violator  Deferred Sentencing  \n",
       "Ethnic_Code_Text                                                            \n",
       "African-American                  72                0                    3  \n",
       "Arabic                             0                0                    0  \n",
       "Asian                              0                0                    0  \n",
       "Caucasian                         24                9                    3  \n",
       "Hispanic                          24                6                    0  \n",
       "Native American                    0                0                    0  \n",
       "Oriental                           0                0                    0  \n",
       "Other                              0                0                    0  "
      ]
     },
     "execution_count": 37,
     "metadata": {},
     "output_type": "execute_result"
    }
   ],
   "source": [
    "pd.crosstab(df.Ethnic_Code_Text, df.LegalStatus)[['Pretrial', 'Post Sentence', 'Conditional Release', 'Other',\n",
    "       'Probation Violator', 'Parole Violator', 'Deferred Sentencing']]"
   ]
  },
  {
   "cell_type": "code",
   "execution_count": 38,
   "metadata": {},
   "outputs": [
    {
     "data": {
      "text/plain": [
       "array(['Jail Inmate', 'Probation', 'Pretrial Defendant',\n",
       "       'Residential Program', 'Prison Inmate', 'Parole'], dtype=object)"
      ]
     },
     "execution_count": 38,
     "metadata": {},
     "output_type": "execute_result"
    }
   ],
   "source": [
    "df[\"CustodyStatus\"].unique()"
   ]
  },
  {
   "cell_type": "code",
   "execution_count": 39,
   "metadata": {},
   "outputs": [
    {
     "data": {
      "text/html": [
       "<div>\n",
       "<style scoped>\n",
       "    .dataframe tbody tr th:only-of-type {\n",
       "        vertical-align: middle;\n",
       "    }\n",
       "\n",
       "    .dataframe tbody tr th {\n",
       "        vertical-align: top;\n",
       "    }\n",
       "\n",
       "    .dataframe thead th {\n",
       "        text-align: right;\n",
       "    }\n",
       "</style>\n",
       "<table border=\"1\" class=\"dataframe\">\n",
       "  <thead>\n",
       "    <tr style=\"text-align: right;\">\n",
       "      <th>CustodyStatus</th>\n",
       "      <th>Jail Inmate</th>\n",
       "      <th>Probation</th>\n",
       "      <th>Pretrial Defendant</th>\n",
       "      <th>Residential Program</th>\n",
       "      <th>Prison Inmate</th>\n",
       "      <th>Parole</th>\n",
       "    </tr>\n",
       "    <tr>\n",
       "      <th>Ethnic_Code_Text</th>\n",
       "      <th></th>\n",
       "      <th></th>\n",
       "      <th></th>\n",
       "      <th></th>\n",
       "      <th></th>\n",
       "      <th></th>\n",
       "    </tr>\n",
       "  </thead>\n",
       "  <tbody>\n",
       "    <tr>\n",
       "      <td>African-American</td>\n",
       "      <td>13599</td>\n",
       "      <td>6642</td>\n",
       "      <td>2622</td>\n",
       "      <td>24</td>\n",
       "      <td>15</td>\n",
       "      <td>6</td>\n",
       "    </tr>\n",
       "    <tr>\n",
       "      <td>Arabic</td>\n",
       "      <td>18</td>\n",
       "      <td>33</td>\n",
       "      <td>9</td>\n",
       "      <td>0</td>\n",
       "      <td>0</td>\n",
       "      <td>0</td>\n",
       "    </tr>\n",
       "    <tr>\n",
       "      <td>Asian</td>\n",
       "      <td>72</td>\n",
       "      <td>135</td>\n",
       "      <td>21</td>\n",
       "      <td>0</td>\n",
       "      <td>0</td>\n",
       "      <td>0</td>\n",
       "    </tr>\n",
       "    <tr>\n",
       "      <td>Caucasian</td>\n",
       "      <td>7179</td>\n",
       "      <td>5607</td>\n",
       "      <td>2046</td>\n",
       "      <td>21</td>\n",
       "      <td>0</td>\n",
       "      <td>15</td>\n",
       "    </tr>\n",
       "    <tr>\n",
       "      <td>Hispanic</td>\n",
       "      <td>2064</td>\n",
       "      <td>4074</td>\n",
       "      <td>729</td>\n",
       "      <td>6</td>\n",
       "      <td>0</td>\n",
       "      <td>0</td>\n",
       "    </tr>\n",
       "    <tr>\n",
       "      <td>Native American</td>\n",
       "      <td>84</td>\n",
       "      <td>78</td>\n",
       "      <td>21</td>\n",
       "      <td>0</td>\n",
       "      <td>0</td>\n",
       "      <td>0</td>\n",
       "    </tr>\n",
       "    <tr>\n",
       "      <td>Oriental</td>\n",
       "      <td>12</td>\n",
       "      <td>21</td>\n",
       "      <td>0</td>\n",
       "      <td>0</td>\n",
       "      <td>0</td>\n",
       "      <td>0</td>\n",
       "    </tr>\n",
       "    <tr>\n",
       "      <td>Other</td>\n",
       "      <td>1470</td>\n",
       "      <td>366</td>\n",
       "      <td>135</td>\n",
       "      <td>0</td>\n",
       "      <td>0</td>\n",
       "      <td>0</td>\n",
       "    </tr>\n",
       "  </tbody>\n",
       "</table>\n",
       "</div>"
      ],
      "text/plain": [
       "CustodyStatus     Jail Inmate  Probation  Pretrial Defendant  \\\n",
       "Ethnic_Code_Text                                               \n",
       "African-American        13599       6642                2622   \n",
       "Arabic                     18         33                   9   \n",
       "Asian                      72        135                  21   \n",
       "Caucasian                7179       5607                2046   \n",
       "Hispanic                 2064       4074                 729   \n",
       "Native American            84         78                  21   \n",
       "Oriental                   12         21                   0   \n",
       "Other                    1470        366                 135   \n",
       "\n",
       "CustodyStatus     Residential Program  Prison Inmate  Parole  \n",
       "Ethnic_Code_Text                                              \n",
       "African-American                   24             15       6  \n",
       "Arabic                              0              0       0  \n",
       "Asian                               0              0       0  \n",
       "Caucasian                          21              0      15  \n",
       "Hispanic                            6              0       0  \n",
       "Native American                     0              0       0  \n",
       "Oriental                            0              0       0  \n",
       "Other                               0              0       0  "
      ]
     },
     "execution_count": 39,
     "metadata": {},
     "output_type": "execute_result"
    }
   ],
   "source": [
    "pd.crosstab(df.Ethnic_Code_Text, df.CustodyStatus)[['Jail Inmate', 'Probation', 'Pretrial Defendant',\n",
    "       'Residential Program', 'Prison Inmate', 'Parole']]"
   ]
  },
  {
   "cell_type": "code",
   "execution_count": 40,
   "metadata": {},
   "outputs": [
    {
     "data": {
      "text/html": [
       "<div>\n",
       "<style scoped>\n",
       "    .dataframe tbody tr th:only-of-type {\n",
       "        vertical-align: middle;\n",
       "    }\n",
       "\n",
       "    .dataframe tbody tr th {\n",
       "        vertical-align: top;\n",
       "    }\n",
       "\n",
       "    .dataframe thead th {\n",
       "        text-align: right;\n",
       "    }\n",
       "</style>\n",
       "<table border=\"1\" class=\"dataframe\">\n",
       "  <thead>\n",
       "    <tr style=\"text-align: right;\">\n",
       "      <th>AssessmentType</th>\n",
       "      <th>Copy</th>\n",
       "      <th>New</th>\n",
       "    </tr>\n",
       "    <tr>\n",
       "      <th>Ethnic_Code_Text</th>\n",
       "      <th></th>\n",
       "      <th></th>\n",
       "    </tr>\n",
       "  </thead>\n",
       "  <tbody>\n",
       "    <tr>\n",
       "      <td>African-American</td>\n",
       "      <td>2460</td>\n",
       "      <td>20448</td>\n",
       "    </tr>\n",
       "    <tr>\n",
       "      <td>Arabic</td>\n",
       "      <td>3</td>\n",
       "      <td>57</td>\n",
       "    </tr>\n",
       "    <tr>\n",
       "      <td>Asian</td>\n",
       "      <td>6</td>\n",
       "      <td>222</td>\n",
       "    </tr>\n",
       "    <tr>\n",
       "      <td>Caucasian</td>\n",
       "      <td>984</td>\n",
       "      <td>13884</td>\n",
       "    </tr>\n",
       "    <tr>\n",
       "      <td>Hispanic</td>\n",
       "      <td>270</td>\n",
       "      <td>6603</td>\n",
       "    </tr>\n",
       "    <tr>\n",
       "      <td>Native American</td>\n",
       "      <td>15</td>\n",
       "      <td>168</td>\n",
       "    </tr>\n",
       "    <tr>\n",
       "      <td>Oriental</td>\n",
       "      <td>0</td>\n",
       "      <td>33</td>\n",
       "    </tr>\n",
       "    <tr>\n",
       "      <td>Other</td>\n",
       "      <td>117</td>\n",
       "      <td>1854</td>\n",
       "    </tr>\n",
       "  </tbody>\n",
       "</table>\n",
       "</div>"
      ],
      "text/plain": [
       "AssessmentType    Copy    New\n",
       "Ethnic_Code_Text             \n",
       "African-American  2460  20448\n",
       "Arabic               3     57\n",
       "Asian                6    222\n",
       "Caucasian          984  13884\n",
       "Hispanic           270   6603\n",
       "Native American     15    168\n",
       "Oriental             0     33\n",
       "Other              117   1854"
      ]
     },
     "execution_count": 40,
     "metadata": {},
     "output_type": "execute_result"
    }
   ],
   "source": [
    "pd.crosstab(df.Ethnic_Code_Text, df.AssessmentType)"
   ]
  },
  {
   "cell_type": "code",
   "execution_count": 41,
   "metadata": {
    "scrolled": true
   },
   "outputs": [
    {
     "data": {
      "text/html": [
       "<div>\n",
       "<style scoped>\n",
       "    .dataframe tbody tr th:only-of-type {\n",
       "        vertical-align: middle;\n",
       "    }\n",
       "\n",
       "    .dataframe tbody tr th {\n",
       "        vertical-align: top;\n",
       "    }\n",
       "\n",
       "    .dataframe thead th {\n",
       "        text-align: right;\n",
       "    }\n",
       "</style>\n",
       "<table border=\"1\" class=\"dataframe\">\n",
       "  <thead>\n",
       "    <tr style=\"text-align: right;\">\n",
       "      <th>AssessmentType</th>\n",
       "      <th>Copy</th>\n",
       "      <th>New</th>\n",
       "    </tr>\n",
       "    <tr>\n",
       "      <th>Ethnic_Code_Text</th>\n",
       "      <th></th>\n",
       "      <th></th>\n",
       "    </tr>\n",
       "  </thead>\n",
       "  <tbody>\n",
       "    <tr>\n",
       "      <td>African-American</td>\n",
       "      <td>0.638132</td>\n",
       "      <td>0.472579</td>\n",
       "    </tr>\n",
       "    <tr>\n",
       "      <td>Arabic</td>\n",
       "      <td>0.000778</td>\n",
       "      <td>0.001317</td>\n",
       "    </tr>\n",
       "    <tr>\n",
       "      <td>Asian</td>\n",
       "      <td>0.001556</td>\n",
       "      <td>0.005131</td>\n",
       "    </tr>\n",
       "    <tr>\n",
       "      <td>Caucasian</td>\n",
       "      <td>0.255253</td>\n",
       "      <td>0.320876</td>\n",
       "    </tr>\n",
       "    <tr>\n",
       "      <td>Hispanic</td>\n",
       "      <td>0.070039</td>\n",
       "      <td>0.152603</td>\n",
       "    </tr>\n",
       "    <tr>\n",
       "      <td>Native American</td>\n",
       "      <td>0.003891</td>\n",
       "      <td>0.003883</td>\n",
       "    </tr>\n",
       "    <tr>\n",
       "      <td>Oriental</td>\n",
       "      <td>0.000000</td>\n",
       "      <td>0.000763</td>\n",
       "    </tr>\n",
       "    <tr>\n",
       "      <td>Other</td>\n",
       "      <td>0.030350</td>\n",
       "      <td>0.042848</td>\n",
       "    </tr>\n",
       "  </tbody>\n",
       "</table>\n",
       "</div>"
      ],
      "text/plain": [
       "AssessmentType        Copy       New\n",
       "Ethnic_Code_Text                    \n",
       "African-American  0.638132  0.472579\n",
       "Arabic            0.000778  0.001317\n",
       "Asian             0.001556  0.005131\n",
       "Caucasian         0.255253  0.320876\n",
       "Hispanic          0.070039  0.152603\n",
       "Native American   0.003891  0.003883\n",
       "Oriental          0.000000  0.000763\n",
       "Other             0.030350  0.042848"
      ]
     },
     "execution_count": 41,
     "metadata": {},
     "output_type": "execute_result"
    }
   ],
   "source": [
    "pd.crosstab(df.Ethnic_Code_Text, df.AssessmentType, normalize=\"columns\")"
   ]
  },
  {
   "cell_type": "code",
   "execution_count": 45,
   "metadata": {
    "scrolled": true
   },
   "outputs": [
    {
     "data": {
      "text/plain": [
       "<seaborn.axisgrid.FacetGrid at 0x2474bcc9c88>"
      ]
     },
     "execution_count": 45,
     "metadata": {},
     "output_type": "execute_result"
    },
    {
     "data": {
      "image/png": "[encoded data removed]",
      "text/plain": [
       "<Figure size 518.75x360 with 1 Axes>"
      ]
     },
     "metadata": {
      "needs_background": "light"
     },
     "output_type": "display_data"
    }
   ],
   "source": [
    "chart1 = sns.catplot(x=\"Ethnic_Code_Text\", y=\"DecileScore\", hue=\"DisplayText\", data=df, kind=\"bar\")\n",
    "chart1.set_xticklabels(rotation=45, horizontalalignment='right')"
   ]
  },
  {
   "cell_type": "code",
   "execution_count": 46,
   "metadata": {},
   "outputs": [
    {
     "data": {
      "image/png": "[encoded data removed]",
      "text/plain": [
       "<Figure size 432x288 with 1 Axes>"
      ]
     },
     "metadata": {
      "needs_background": "light"
     },
     "output_type": "display_data"
    }
   ],
   "source": [
    "sns.distplot(df['Age'], bins=10)\n",
    "plt.xlabel('Age')\n",
    "plt.ylabel('Frequency');"
   ]
  },
  {
   "cell_type": "code",
   "execution_count": 47,
   "metadata": {},
   "outputs": [],
   "source": [
    "df.to_csv(\"Compas_v2.csv\", sep=',')"
   ]
  }
 ],
 "metadata": {
  "kernelspec": {
   "display_name": "Python 3",
   "language": "python",
   "name": "python3"
  },
  "language_info": {
   "codemirror_mode": {
    "name": "ipython",
    "version": 3
   },
   "file_extension": ".py",
   "mimetype": "text/x-python",
   "name": "python",
   "nbconvert_exporter": "python",
   "pygments_lexer": "ipython3",
   "version": "3.7.4"
  }
 },
 "nbformat": 4,
 "nbformat_minor": 4
}
